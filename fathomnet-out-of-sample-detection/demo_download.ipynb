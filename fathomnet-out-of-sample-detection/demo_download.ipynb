{
 "cells": [
  {
   "attachments": {},
   "cell_type": "markdown",
   "metadata": {},
   "source": [
    "# Download FathomNet-FGVC 2023 images\n",
    "## March 24, 2023\n",
    "\n",
    "This notebook downloads images for the [FathomNet 2023 Competition](https://www.kaggle.com/competitions/fathomnet-out-of-sample-detection/overview). It assumes that the dataset has been downloaded from Kaggle and retains the original directory structure:\n",
    "\n",
    "```\n",
    "../fathomnet-out-of-sample-detection\n",
    "    |\n",
    "    |____multilabel_classification\n",
    "    |  |____train.csv\n",
    "    |____object_detection\n",
    "    |  |____eval.json\n",
    "    |  |____train.json\n",
    "    |____category_key.csv\n",
    "    |____demo_download.ipynb\n",
    "    |____download_images.py\n",
    "    |____requirements.txt\n",
    "    |____sample_submission.csv\n",
    "```"
   ]
  },
  {
   "attachments": {},
   "cell_type": "markdown",
   "metadata": {},
   "source": [
    "### Install requirements\n",
    "This installs the requirements in the current python3 environment."
   ]
  },
  {
   "cell_type": "code",
   "execution_count": 3,
   "metadata": {},
   "outputs": [
    {
     "name": "stdout",
     "output_type": "stream",
     "text": [
      "Collecting Bottleneck==1.3.5\n",
      "  Using cached Bottleneck-1.3.5-cp310-cp310-manylinux_2_5_x86_64.manylinux1_x86_64.manylinux_2_17_x86_64.manylinux2014_x86_64.whl (354 kB)\n",
      "Collecting brotlipy==0.7.0\n",
      "  Using cached brotlipy-0.7.0-cp35-abi3-manylinux2010_x86_64.whl (1.1 MB)\n",
      "Requirement already satisfied: certifi==2022.12.7 in /home/guoxl/anaconda3/envs/py310cuda116/lib/python3.10/site-packages (from -r requirements.txt (line 3)) (2022.12.7)\n",
      "Collecting cffi==1.15.1\n",
      "  Using cached cffi-1.15.1-cp310-cp310-manylinux_2_17_x86_64.manylinux2014_x86_64.whl (441 kB)\n",
      "Collecting charset-normalizer==2.0.4\n",
      "  Using cached charset_normalizer-2.0.4-py3-none-any.whl (36 kB)\n",
      "Collecting cryptography==38.0.4\n",
      "  Using cached cryptography-38.0.4-cp36-abi3-manylinux_2_28_x86_64.whl (4.2 MB)\n",
      "Requirement already satisfied: idna==3.4 in /home/guoxl/anaconda3/envs/py310cuda116/lib/python3.10/site-packages (from -r requirements.txt (line 7)) (3.4)\n",
      "\u001b[31mERROR: Could not find a version that satisfies the requirement mkl-random==1.2.2 (from versions: none)\u001b[0m\u001b[31m\n",
      "\u001b[0m\u001b[31mERROR: No matching distribution found for mkl-random==1.2.2\u001b[0m\u001b[31m\n",
      "\u001b[0mNote: you may need to restart the kernel to use updated packages.\n"
     ]
    }
   ],
   "source": [
    "%pip install -r requirements.txt"
   ]
  },
  {
   "attachments": {},
   "cell_type": "markdown",
   "metadata": {},
   "source": [
    "### Start download\n",
    "\n",
    "First download the training data. The script `download_images.py` will by default create a new directory called `images` where all the downloaded files will live. If you want the images to live someplace else on your local machine, specify an output directory using the `--outpath` flag. This may take upwards of an hour depending on your internet connection. "
   ]
  },
  {
   "cell_type": "code",
   "execution_count": 4,
   "metadata": {},
   "outputs": [
    {
     "name": "stdout",
     "output_type": "stream",
     "text": [
      "INFO:root:opening object_detection/train.json\n",
      "INFO:root:retrieving 5950 images\n",
      "INFO:root:Created directory /home/guoxl/data/workspace/workspace/kaggle/fathomnet/fathomnet-out-of-sample-detection/images\n",
      "\\ |                                           #      | 22 Elapsed Time: 0:08:44"
     ]
    }
   ],
   "source": [
    "!python download_images.py object_detection/train.json "
   ]
  },
  {
   "attachments": {},
   "cell_type": "markdown",
   "metadata": {},
   "source": [
    "Now download the evaluation data. Again, if you want to save the images to a different directory, please specify the location with the `--outpath` flag. "
   ]
  },
  {
   "cell_type": "code",
   "execution_count": null,
   "metadata": {},
   "outputs": [],
   "source": [
    "!python download_images.py object_detection/eval.json"
   ]
  },
  {
   "cell_type": "code",
   "execution_count": null,
   "metadata": {},
   "outputs": [],
   "source": []
  }
 ],
 "metadata": {
  "kernelspec": {
   "display_name": "fgvc-comp-2023",
   "language": "python",
   "name": "python3"
  },
  "language_info": {
   "codemirror_mode": {
    "name": "ipython",
    "version": 3
   },
   "file_extension": ".py",
   "mimetype": "text/x-python",
   "name": "python",
   "nbconvert_exporter": "python",
   "pygments_lexer": "ipython3",
   "version": "3.10.10"
  },
  "orig_nbformat": 4
 },
 "nbformat": 4,
 "nbformat_minor": 2
}
